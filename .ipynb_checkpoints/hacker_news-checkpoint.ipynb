{
 "cells": [
  {
   "cell_type": "markdown",
   "id": "db4fc1be-0ef8-405b-865e-d6dec078c16b",
   "metadata": {},
   "source": [
    "![](figures/yc500.gif)"
   ]
  },
  {
   "cell_type": "markdown",
   "id": "bae013cb-ae20-4a53-a384-fb520846e3b2",
   "metadata": {},
   "source": [
    "# Exploring Hacker News Posts"
   ]
  },
  {
   "cell_type": "markdown",
   "id": "8104c143-3e80-4f14-af37-a32e9df80a14",
   "metadata": {},
   "source": [
    "Table of Contents\n",
    "=================\n",
    "\n",
    "   * [1. Project Overview](#chapter1)\n",
    "   * [2. Getting Started](#chapter2)\n",
    "       * [2.1 Importing relevant libraries and checking their versions](#chapter2.1)\n",
    "       * [2.2 Reading in datasets as lists of lists](#chapter2.2)\n",
    "   * [3. Data Analysis](#chapter3)\n",
    "       * [3.1 Research Question #1](#chapter3.1)\n",
    "       * [3.2 Research Question #2](#chapter3.2)\n",
    "   * [4. Conclusion](#chapter4)"
   ]
  },
  {
   "cell_type": "markdown",
   "id": "c7acb150-b4fc-4614-a9bd-aeb5cadca9c6",
   "metadata": {
    "tags": []
   },
   "source": [
    "## 1. Project Overview <a class=\"anchor\" id=\"chapter1\"></a>"
   ]
  },
  {
   "cell_type": "markdown",
   "id": "cf4ba5bc-4e59-40f5-a764-361a9c4f6c59",
   "metadata": {},
   "source": [
    "In this project, we'll work with a dataset of submissions to popular technology website [Hacker News](https://news.ycombinator.com/). The **aim** of this project is to clean, prepare and analyze all posts on this website to find the best time for placing targeted posts and see whether certain post titles attract more attention. We will be using the number of comments as a metric to assess the post engagement level.\n",
    "\n",
    "Hacker News is a site started by the startup incubator [Y Combinator](https://www.ycombinator.com/), where user-submitted posts receive votes and comments, similar to reddit. Hacker News is extremely popular in technology and startup circles, and posts that make it to the top of the Hacker News listings can get hundreds of thousands of visitors as a result.\n",
    "\n",
    "You can find the data set [here](https://www.kaggle.com/hacker-news/hacker-news-posts). Below are descriptions of the columns.\n",
    "\n",
    "> *Note*: the data set has been reduced from almost 300,000 rows to approximately 20,000 rows by removing all submissions that did not receive any comments, and then randomly sampling from the remaining submissions."
   ]
  },
  {
   "cell_type": "markdown",
   "id": "b5e96894-f8ee-41e8-a2a0-1869a34bc725",
   "metadata": {},
   "source": [
    "            Data Dictionary for the Hacker News dataset\n",
    "---------------------------------------------\n",
    "| Column Name | Description | \n",
    "| ------------ | ------------- | \n",
    "| id | the unique identifier from Hacker News for the post | \n",
    "| title | the title of the post | \n",
    "| url | the URL that the posts links to, if the post has a URL | \n",
    "| num_points | the number of points the post acquired, calculated as the total number of upvotes minus the total number of downvotes | \n",
    "| num_comments | the number of comments on the post |\n",
    "| author | the username of the person who submitted the post  | \n",
    "| created_at |  the date and time of the post's submission |"
   ]
  },
  {
   "cell_type": "markdown",
   "id": "f677d792-3eb2-4376-872f-033ebe0e5ef7",
   "metadata": {},
   "source": [
    "## 2. Getting started <a class=\"anchor\" id=\"chapter2\"></a> "
   ]
  },
  {
   "cell_type": "markdown",
   "id": "2bc63de4-42e0-44e2-b1ec-469ce2a9fcf6",
   "metadata": {},
   "source": [
    "### 2.1 Importing relevant libraries and checking their versions <a class=\"anchor\" id=\"chapter2.1\"></a>"
   ]
  },
  {
   "cell_type": "code",
   "execution_count": 10,
   "id": "cc1caf01-2aee-4f65-9d42-5bf7653858dc",
   "metadata": {},
   "outputs": [],
   "source": [
    "# Importing libraries\n",
    "import requests\n",
    "from csv import reader\n",
    "import datetime as dt"
   ]
  },
  {
   "cell_type": "markdown",
   "id": "563ab463-7f8b-44f6-8505-7f51c745da2e",
   "metadata": {},
   "source": [
    "> *Note*: We will not be using the Numpy or Pandas libraries here to showcase data cleaning skills when working with lists of lists."
   ]
  },
  {
   "cell_type": "code",
   "execution_count": 11,
   "id": "85491e0f-06f0-47cb-a63e-c602222432b1",
   "metadata": {},
   "outputs": [
    {
     "name": "stdout",
     "output_type": "stream",
     "text": [
      "The watermark extension is already loaded. To reload it, use:\n",
      "  %reload_ext watermark\n",
      "Python implementation: CPython\n",
      "Python version       : 3.9.7\n",
      "IPython version      : 7.29.0\n",
      "\n",
      "requests: 2.26.0\n",
      "csv     : 1.0\n",
      "datetime: unknown\n",
      "pandas  : 1.3.4\n",
      "\n"
     ]
    }
   ],
   "source": [
    "# Printing verions of Python modules and packages with watermark - the IPython magic extension.\n",
    "%load_ext watermark\n",
    "\n",
    "%watermark -v -p requests,csv,datetime,pandas"
   ]
  },
  {
   "cell_type": "markdown",
   "id": "edcd9c0a-a246-4ffb-aca3-ef4439cd83b9",
   "metadata": {},
   "source": [
    "### 2.2 Reading in datasets as lists of lists <a class=\"anchor\" id=\"chapter2.2\"></a>"
   ]
  },
  {
   "cell_type": "code",
   "execution_count": 12,
   "id": "d86f3bc0-2748-44f5-91ca-6b3ef88bc489",
   "metadata": {},
   "outputs": [],
   "source": [
    "opened_file = open('hacker_news.csv')\n",
    "read_file = reader(opened_file)\n",
    "hacker_news = list(read_file)\n",
    "header = hacker_news[0]\n",
    "hacker_news = hacker_news[1:]"
   ]
  },
  {
   "cell_type": "code",
   "execution_count": 13,
   "id": "b15ed52e-23e0-45f6-aabe-1f9826abfd20",
   "metadata": {},
   "outputs": [
    {
     "name": "stdout",
     "output_type": "stream",
     "text": [
      "['id', 'title', 'url', 'num_points', 'num_comments', 'author', 'created_at']\n",
      "\n",
      "\n",
      "['12224879', 'Interactive Dynamic Video', 'http://www.interactivedynamicvideo.com/', '386', '52', 'ne0phyte', '8/4/2016 11:52']\n",
      "\n",
      "\n",
      "['10975351', 'How to Use Open Source and Shut the Fuck Up at the Same Time', 'http://hueniverse.com/2016/01/26/how-to-use-open-source-and-shut-the-fuck-up-at-the-same-time/', '39', '10', 'josep2', '1/26/2016 19:30']\n",
      "\n",
      "\n",
      "['11964716', \"Florida DJs May Face Felony for April Fools' Water Joke\", 'http://www.thewire.com/entertainment/2013/04/florida-djs-april-fools-water-joke/63798/', '2', '1', 'vezycash', '6/23/2016 22:20']\n",
      "\n",
      "\n",
      "['11919867', 'Technology ventures: From Idea to Enterprise', 'https://www.amazon.com/Technology-Ventures-Enterprise-Thomas-Byers/dp/0073523429', '3', '1', 'hswarna', '6/17/2016 0:01']\n",
      "\n",
      "\n",
      "['10301696', 'Note by Note: The Making of Steinway L1037 (2007)', 'http://www.nytimes.com/2007/11/07/movies/07stein.html?_r=0', '8', '2', 'walterbell', '9/30/2015 4:12']\n",
      "\n",
      "\n"
     ]
    }
   ],
   "source": [
    "print (header)\n",
    "print('\\n')\n",
    "for row in hacker_news[:5]:\n",
    "    print (row)\n",
    "    print('\\n')"
   ]
  },
  {
   "cell_type": "markdown",
   "id": "94d10a60-fb13-4331-869c-b69c5378b983",
   "metadata": {},
   "source": [
    "### 3 Data Analysis <a class=\"anchor\" id=\"chapter3\"></a>"
   ]
  },
  {
   "cell_type": "markdown",
   "id": "5366dc72-39d1-46b1-9eba-6d53512f3426",
   "metadata": {},
   "source": [
    "Now that we've separated the header, we're ready to filter our data. We're specifically interested in posts whose titles begin with either `Ask HN` or `Show HN`. Users submit `Ask HN` posts to ask the Hacker News community a specific question. Below are a couple examples:\n",
    "> Ask HN: How to improve my personal website?\n",
    "\n",
    ">Ask HN: Am I the only one outraged by Twitter shutting down share counts?\n",
    "\n",
    "> Ask HN: Aby recent changes to CSS that broke mobile\n",
    "\n",
    "Likewise, users submit `Show HN` posts to show the Hacker News community a project, product, or just generally something interesting. Below are a couple of examples:\n",
    "> Show HN: Wio Link ESP8266 Based Web of Things Hardware Development Platform\n",
    "\n",
    "> Show HN: Something pointless I made\n",
    "\n",
    "> Show HN: Shanhu.io, a programming playground powered by e8vm\n",
    "\n",
    "We'll compare these two types of posts to determine the following research questions:\n",
    "\n",
    "- Do Ask HN or Show HN receive more comments on average?\n",
    "- Do posts created at a certain time receive more comments on average?"
   ]
  },
  {
   "cell_type": "markdown",
   "id": "50271d96-9691-44a2-ae9c-a8a63cba681e",
   "metadata": {},
   "source": [
    "### 3.1 Research question #1 <a class=\"anchor\" id=\"chapter3.1\"></a>"
   ]
  },
  {
   "cell_type": "markdown",
   "id": "215f9ca2-d913-4dd1-b21c-53c3289506cd",
   "metadata": {},
   "source": [
    "Since we're only concerned with post titles beginning with `Ask HN` or `Show HN`, we'll create new lists of lists containing just the data for those titles."
   ]
  },
  {
   "cell_type": "markdown",
   "id": "002f969d-8530-4d34-a5d6-a7637b1fdafc",
   "metadata": {},
   "source": [
    "To find the posts that begin with either `Ask HN` or `Show HN`, we'll use the string method `startswith()`. Given a string object, say, `string1`, we can check if starts with, say, `dq` by inspecting the output of the object `string1.startswith('dq')`. If `string1` starts with `dq`, it will return `True`; otherwise, it will return `False`."
   ]
  },
  {
   "cell_type": "markdown",
   "id": "584ff9b2-cd94-4da0-8ab1-8c51122b47b4",
   "metadata": {},
   "source": [
    "If we wish to control for case, we can use the `lower()` method, which returns a lowercase version of the starting "
   ]
  },
  {
   "cell_type": "code",
   "execution_count": 14,
   "id": "c42b4bf0-ff2f-494c-b2a8-5150c14d2350",
   "metadata": {},
   "outputs": [],
   "source": [
    "ask_posts = []\n",
    "show_posts = []\n",
    "other_posts = []"
   ]
  },
  {
   "cell_type": "code",
   "execution_count": 15,
   "id": "4e3a1f4f-f5d2-498e-9d69-b46fc3fdae42",
   "metadata": {},
   "outputs": [
    {
     "name": "stdout",
     "output_type": "stream",
     "text": [
      "Number of posts in 'ask_posts':  1744\n",
      "Number of posts in 'show_posts':  1162\n",
      "Number of posts in 'other_posts':  17194\n"
     ]
    }
   ],
   "source": [
    "for row in hacker_news:\n",
    "    title = row[1]\n",
    "    title = title.lower()\n",
    "    if title.startswith('ask hn'):\n",
    "        ask_posts.append(row)\n",
    "    elif title.startswith(\"show hn\"):\n",
    "        show_posts.append(row)\n",
    "    else: \n",
    "        other_posts.append(row)\n",
    "print(\"Number of posts in 'ask_posts': \", len(ask_posts))\n",
    "print(\"Number of posts in 'show_posts': \",len(show_posts))\n",
    "print(\"Number of posts in 'other_posts': \",len(other_posts))"
   ]
  },
  {
   "cell_type": "code",
   "execution_count": 16,
   "id": "9d792fcf-dfa3-420f-93e4-ce1d6cfd027d",
   "metadata": {},
   "outputs": [
    {
     "name": "stdout",
     "output_type": "stream",
     "text": [
      "['12296411', 'Ask HN: How to improve my personal website?', '', '2', '6', 'ahmedbaracat', '8/16/2016 9:55']\n",
      "\n",
      "\n",
      "['10610020', 'Ask HN: Am I the only one outraged by Twitter shutting down share counts?', '', '28', '29', 'tkfx', '11/22/2015 13:43']\n",
      "\n",
      "\n",
      "['11610310', 'Ask HN: Aby recent changes to CSS that broke mobile?', '', '1', '1', 'polskibus', '5/2/2016 10:14']\n",
      "\n",
      "\n",
      "\n",
      "\n",
      "['10627194', 'Show HN: Wio Link  ESP8266 Based Web of Things Hardware Development Platform', 'https://iot.seeed.cc', '26', '22', 'kfihihc', '11/25/2015 14:03']\n",
      "\n",
      "\n",
      "['10646440', 'Show HN: Something pointless I made', 'http://dn.ht/picklecat/', '747', '102', 'dhotson', '11/29/2015 22:46']\n",
      "\n",
      "\n",
      "['11590768', 'Show HN: Shanhu.io, a programming playground powered by e8vm', 'https://shanhu.io', '1', '1', 'h8liu', '4/28/2016 18:05']\n",
      "\n",
      "\n",
      "\n",
      "\n",
      "['12224879', 'Interactive Dynamic Video', 'http://www.interactivedynamicvideo.com/', '386', '52', 'ne0phyte', '8/4/2016 11:52']\n",
      "\n",
      "\n",
      "['10975351', 'How to Use Open Source and Shut the Fuck Up at the Same Time', 'http://hueniverse.com/2016/01/26/how-to-use-open-source-and-shut-the-fuck-up-at-the-same-time/', '39', '10', 'josep2', '1/26/2016 19:30']\n",
      "\n",
      "\n",
      "['11964716', \"Florida DJs May Face Felony for April Fools' Water Joke\", 'http://www.thewire.com/entertainment/2013/04/florida-djs-april-fools-water-joke/63798/', '2', '1', 'vezycash', '6/23/2016 22:20']\n",
      "\n",
      "\n"
     ]
    }
   ],
   "source": [
    "for row in ask_posts[:3]:\n",
    "    print (row)\n",
    "    print('\\n')\n",
    "print('\\n')\n",
    "for row in show_posts[:3]:\n",
    "    print (row)\n",
    "    print('\\n')\n",
    "print('\\n')\n",
    "for row in other_posts[:3]:\n",
    "    print (row)\n",
    "    print('\\n')"
   ]
  },
  {
   "cell_type": "markdown",
   "id": "005c41a3-39ec-433a-b374-3fd63f83db9d",
   "metadata": {},
   "source": [
    "Next, let's determine if ask posts or show posts receive more comments on average.\n",
    "\n"
   ]
  },
  {
   "cell_type": "code",
   "execution_count": 17,
   "id": "e724cf9d-c4e3-4f31-8871-3370d46ec84b",
   "metadata": {},
   "outputs": [
    {
     "name": "stdout",
     "output_type": "stream",
     "text": [
      "Average number of Ask HN comments: 14.038417431192661\n",
      "Average number of Show HN comments: 10.31669535283993\n"
     ]
    }
   ],
   "source": [
    "total_ask_comments = 0\n",
    "\n",
    "for row in ask_posts:\n",
    "    total_ask_comments +=  int(row[4])\n",
    "    \n",
    "avg_ask_comments = total_ask_comments / len (ask_posts)\n",
    "\n",
    "total_show_comments = 0\n",
    "\n",
    "for row in show_posts:\n",
    "    total_show_comments +=  int(row[4])\n",
    "    \n",
    "avg_show_comments = total_show_comments / len (show_posts)\n",
    "\n",
    "print('Average number of Ask HN comments:',avg_ask_comments)\n",
    "print('Average number of Show HN comments:',avg_show_comments)"
   ]
  },
  {
   "cell_type": "markdown",
   "id": "0433a3e3-ffa2-4462-a4a8-bfd23579416f",
   "metadata": {},
   "source": [
    "Based on the analysis above, on average `ask_posts` receive more comments (14) than `show_posts` (10). Our futher analysis will focus of `ask_posts` since it receives more comments."
   ]
  },
  {
   "cell_type": "markdown",
   "id": "d40ed904-e86e-47f6-ac34-e4e6b437458b",
   "metadata": {},
   "source": [
    "### 3.2 Research question #2 <a class=\"anchor\" id=\"chapter3.2\"></a>"
   ]
  },
  {
   "cell_type": "markdown",
   "id": "b919d10e-f665-48ca-855d-20d60b12d466",
   "metadata": {},
   "source": [
    "It's clear that, on average, ask posts receive more comments than show posts. Since ask posts are more likely to receive comments, we'll focus our remaining analysis just on these posts.\n",
    "\n",
    "Next, we'll determine if ask posts created at a certain time are more likely to attract comments. We'll use the following steps to perform this analysis:\n",
    "\n",
    "* Calculate the amount of ask posts created in each hour of the day, along with the number of comments received.\n",
    "* Calculate the average number of comments ask posts receive by hour created.\n",
    "\n",
    "We'll use the `datetime` module to work with the data in the `created_at` column to calculate the amount of ask posts and comments by hour created."
   ]
  },
  {
   "cell_type": "code",
   "execution_count": 18,
   "id": "93f0fb77-a8ad-4500-aba0-255ccff5f9b4",
   "metadata": {},
   "outputs": [
    {
     "name": "stdout",
     "output_type": "stream",
     "text": [
      "The number of ask posts created during each hour of the day:\n",
      "{9: 45, 13: 85, 10: 59, 14: 107, 16: 108, 23: 68, 12: 73, 17: 100, 15: 116, 21: 109, 20: 80, 2: 58, 18: 109, 3: 54, 5: 46, 19: 110, 1: 60, 22: 71, 8: 48, 4: 47, 0: 55, 6: 44, 7: 34, 11: 58}\n",
      "\n",
      "\n",
      "The corresponding number of comments ask posts created at each hour received:\n",
      "{9: 251, 13: 1253, 10: 793, 14: 1416, 16: 1814, 23: 543, 12: 687, 17: 1146, 15: 4477, 21: 1745, 20: 1722, 2: 1381, 18: 1439, 3: 421, 5: 464, 19: 1188, 1: 683, 22: 479, 8: 492, 4: 337, 0: 447, 6: 397, 7: 267, 11: 641}\n"
     ]
    }
   ],
   "source": [
    "result_list = []\n",
    "\n",
    "for row in ask_posts:\n",
    "    result_list.append ( [ row[6] , int(row[4]) ] )\n",
    "    \n",
    "counts_by_hour = {}\n",
    "comments_by_hour = {}\n",
    "\n",
    "for row in result_list:\n",
    "    time_created = dt.datetime.strptime(row[0],'%m/%d/%Y %H:%M')\n",
    "    hour = time_created.hour\n",
    "    \n",
    "    if hour not in counts_by_hour:\n",
    "        counts_by_hour[hour] = 1\n",
    "        comments_by_hour[hour] = row[1]\n",
    "    else:\n",
    "        counts_by_hour[hour] += 1\n",
    "        comments_by_hour[hour] += row[1]\n",
    "\n",
    "print('The number of ask posts created during each hour of the day:')\n",
    "print(counts_by_hour)\n",
    "print('\\n')\n",
    "print('The corresponding number of comments ask posts created at each hour received:')\n",
    "print(comments_by_hour)"
   ]
  },
  {
   "cell_type": "markdown",
   "id": "ab1caf0a-2140-4c5d-a720-375917aa0f3b",
   "metadata": {},
   "source": [
    "Next, we'll use these two dictionaries to calculate the average number of comments for posts created during each hour of the day by creating a list of lists containing the hours during which posts were created and the average number of comments those posts received."
   ]
  },
  {
   "cell_type": "code",
   "execution_count": 20,
   "id": "d6c0bea8-c29c-4130-b8a6-c1f94ac4ea9f",
   "metadata": {},
   "outputs": [
    {
     "name": "stdout",
     "output_type": "stream",
     "text": [
      "[[9, 5.5777777777777775], [13, 14.741176470588234], [10, 13.440677966101696], [14, 13.233644859813085], [16, 16.796296296296298], [23, 7.985294117647059], [12, 9.41095890410959], [17, 11.46], [15, 38.5948275862069], [21, 16.009174311926607], [20, 21.525], [2, 23.810344827586206], [18, 13.20183486238532], [3, 7.796296296296297], [5, 10.08695652173913], [19, 10.8], [1, 11.383333333333333], [22, 6.746478873239437], [8, 10.25], [4, 7.170212765957447], [0, 8.127272727272727], [6, 9.022727272727273], [7, 7.852941176470588], [11, 11.051724137931034]]\n"
     ]
    }
   ],
   "source": [
    "avg_by_hour = []\n",
    "\n",
    "for hour in counts_by_hour:\n",
    "    no_of_posts = counts_by_hour[hour]\n",
    "    no_of_comments = comments_by_hour[hour]\n",
    "    avg_no_comments = comments_by_hour[hour] / counts_by_hour[hour] \n",
    "    avg_by_hour.append([hour,avg_no_comments])\n",
    "    \n",
    "print(avg_by_hour)"
   ]
  },
  {
   "cell_type": "markdown",
   "id": "4c8dfcb4-f9ea-46a6-93be-19152ae05d03",
   "metadata": {},
   "source": [
    "Now let's sort the above data in descending order of average number of comments for easy analysis."
   ]
  },
  {
   "cell_type": "code",
   "execution_count": 22,
   "id": "afa548b7-4b31-49c2-877e-a738dab3312f",
   "metadata": {},
   "outputs": [
    {
     "name": "stdout",
     "output_type": "stream",
     "text": [
      "Top 5 Hours for Ask Posts Comments\n",
      "\n",
      "\n",
      "15:00: 38.59 average comments per post.\n",
      "2:00: 23.81 average comments per post.\n",
      "20:00: 21.52 average comments per post.\n",
      "16:00: 16.80 average comments per post.\n",
      "21:00: 16.01 average comments per post.\n"
     ]
    }
   ],
   "source": [
    "swap_avg_by_hour = []\n",
    "\n",
    "for value in avg_by_hour:\n",
    "    swap_avg_by_hour.append([value[1],value[0]])\n",
    "    \n",
    "sorted_swap = sorted(swap_avg_by_hour,reverse = True)\n",
    "\n",
    "print('Top 5 Hours for Ask Posts Comments')\n",
    "print('\\n')\n",
    "\n",
    "for row in sorted_swap[:5]:\n",
    "    template = '{time}:00: {num:.2f} average comments per post.'\n",
    "    print(template.format(time = row[1] , num = row[0]))"
   ]
  },
  {
   "cell_type": "markdown",
   "id": "c012d74e-bcf0-4146-8f93-45a639a280f0",
   "metadata": {},
   "source": [
    "The hour that receives the most comments per post on average is 15:00, with an average of 38.59 comments per post. There's about a 60% increase in the number of comments between the hours with the highest and second highest average number of comments.\n",
    "\n",
    "According to the data set [documentation](https://www.kaggle.com/hacker-news/hacker-news-posts/home), the timezone used is Eastern Time in the US. So, we could also write 15:00 as 3:00 pm est."
   ]
  },
  {
   "cell_type": "markdown",
   "id": "67460fcf-9a22-4fef-b278-52fb9c6d55ed",
   "metadata": {},
   "source": [
    "## Conclusion <a class=\"anchor\" id=\"chapter4\"></a>"
   ]
  },
  {
   "cell_type": "markdown",
   "id": "ad677231-4222-4616-a88a-f31ef066d8b1",
   "metadata": {},
   "source": [
    "In this project, we analyzed ask posts and show posts to determine which type of post and time receive the most comments on average. Based on our analysis, to maximize the amount of comments a post receives, we'd recommend the post be categorized as ask post and created between 15:00 and 16:00 (3:00 pm est - 4:00 pm est).\n",
    "\n",
    "However, it should be noted that the data set we analyzed excluded posts without any comments. Given that, it's more accurate to say that of the posts that received comments, ask posts received more comments on average and ask posts created between 15:00 and 16:00 (3:00 pm est - 4:00 pm est) received the most comments on average."
   ]
  }
 ],
 "metadata": {
  "kernelspec": {
   "display_name": "Python 3 (ipykernel)",
   "language": "python",
   "name": "python3"
  },
  "language_info": {
   "codemirror_mode": {
    "name": "ipython",
    "version": 3
   },
   "file_extension": ".py",
   "mimetype": "text/x-python",
   "name": "python",
   "nbconvert_exporter": "python",
   "pygments_lexer": "ipython3",
   "version": "3.9.7"
  }
 },
 "nbformat": 4,
 "nbformat_minor": 5
}
